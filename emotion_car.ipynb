{
  "cells": [
    {
      "cell_type": "code",
      "execution_count": null,
      "metadata": {
        "colab": {
          "base_uri": "https://localhost:8080/"
        },
        "id": "dYSoixUmBDjs",
        "outputId": "946356de-2e2d-44f8-efc3-3edca6e85715"
      },
      "outputs": [
        {
          "name": "stdout",
          "output_type": "stream",
          "text": [
            "Drive already mounted at /content/drive; to attempt to forcibly remount, call drive.mount(\"/content/drive\", force_remount=True).\n",
            "Found 1527 files belonging to 4 classes.\n",
            "Found 374 files belonging to 4 classes.\n",
            "Found 390 files belonging to 4 classes.\n"
          ]
        }
      ],
      "source": [
        "from tensorflow.keras.models import Sequential\n",
        "from tensorflow.keras.layers import Dense, Flatten, Dropout, GlobalAveragePooling2D\n",
        "from tensorflow.keras.optimizers import Adam\n",
        "from tensorflow.keras.applications import ResNet50\n",
        "from tensorflow.keras import layers\n",
        "import numpy as np\n",
        "import tensorflow as tf\n",
        "from google.colab import drive\n",
        "\n",
        "drive.mount('/content/drive')\n",
        "\n",
        "train_ds = tf.keras.preprocessing.image_dataset_from_directory(\n",
        "    '/content/drive/MyDrive/emotion project/training',\n",
        "    image_size=(224, 224),\n",
        "    batch_size=64,\n",
        "    seed=42,\n",
        "    color_mode='rgb'\n",
        ")\n",
        "\n",
        "val_ds = tf.keras.preprocessing.image_dataset_from_directory(\n",
        "    '/content/drive/MyDrive/emotion project/val',\n",
        "    image_size=(224, 224),\n",
        "    batch_size=64,\n",
        "    seed=42,\n",
        "    color_mode='rgb'\n",
        ")\n",
        "\n",
        "test_ds = tf.keras.preprocessing.image_dataset_from_directory(\n",
        "    '/content/drive/MyDrive/emotion project/test',\n",
        "    image_size=(224, 224),\n",
        "    batch_size=64,\n",
        "    seed=42,\n",
        "    color_mode='rgb'\n",
        ")\n",
        "\n",
        "\n",
        "def preprocess_func(image, label):\n",
        "    image = tf.cast(image / 255.0, tf.float32)\n",
        "    return image, label\n",
        "\n",
        "\n",
        "train_ds = train_ds.map(preprocess_func)\n",
        "val_ds = val_ds.map(preprocess_func)\n",
        "test_ds = test_ds.map(preprocess_func)\n",
        "\n",
        "\n",
        "\n"
      ]
    },
    {
      "cell_type": "code",
      "execution_count": null,
      "metadata": {
        "id": "LqfUVVxvb5pX"
      },
      "outputs": [],
      "source": [
        "base_model = ResNet50(weights='imagenet', include_top=False, input_shape=(224, 224, 3))\n",
        "model = Sequential()\n",
        "model.add(base_model)\n",
        "model.add(GlobalAveragePooling2D())\n",
        "model.add(Dense(512, activation='relu'))\n",
        "model.add(Dropout(0.15))\n",
        "model.add(Dense(4, activation='softmax'))\n",
        "model.summary()\n",
        "\n",
        "model.compile(optimizer=Adam(learning_rate=0.001),loss='binary_crossentropy',metrics=['accuracy'])\n",
        "\n",
        "def train_model(model, train_data, val_data, epochs):\n",
        "    # 모델 학습\n",
        "    history = model.fit(train_data, validation_data=val_data, epochs=epochs, verbose=1)\n",
        "    return history\n",
        "\n",
        "history = train_model(model, train_ds, val_ds, epochs=5)\n",
        "\n",
        "\n",
        "test_loss, test_accuracy = model.evaluate(test_ds)\n",
        "print(f\"Test Loss: {test_loss:.4f}, Test Accuracy: {test_accuracy:.4f}\")"
      ]
    }
  ],
  "metadata": {
    "accelerator": "GPU",
    "colab": {
      "provenance": []
    },
    "kernelspec": {
      "display_name": "Python 3",
      "name": "python3"
    },
    "language_info": {
      "name": "python"
    }
  },
  "nbformat": 4,
  "nbformat_minor": 0
}
